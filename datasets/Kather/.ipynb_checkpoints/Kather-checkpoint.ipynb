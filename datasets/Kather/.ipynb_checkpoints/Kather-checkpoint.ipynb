{
 "cells": [
  {
   "cell_type": "code",
   "execution_count": 70,
   "metadata": {},
   "outputs": [],
   "source": [
    "import seaborn as sns\n",
    "import json\n",
    "import pandas as pd\n",
    "import matplotlib.pyplot as plt"
   ]
  },
  {
   "cell_type": "markdown",
   "metadata": {},
   "source": [
    "We load the json files."
   ]
  },
  {
   "cell_type": "code",
   "execution_count": 71,
   "metadata": {},
   "outputs": [
    {
     "name": "stdout",
     "output_type": "stream",
     "text": [
      "3500\n"
     ]
    }
   ],
   "source": [
    "with open(\"Kather_2016/train.json\",\"r\") as f:\n",
    "    kather16_train = json.load(f)\n",
    "    print(len(kather16_train[\"images\"]))"
   ]
  },
  {
   "cell_type": "code",
   "execution_count": 72,
   "metadata": {},
   "outputs": [
    {
     "name": "stdout",
     "output_type": "stream",
     "text": [
      "7995\n"
     ]
    }
   ],
   "source": [
    "with open(\"Kather_2019/train.json\",\"r\") as f:\n",
    "    kather19_train = json.load(f)\n",
    "    print(len(kather19_train[\"images\"]))"
   ]
  },
  {
   "cell_type": "code",
   "execution_count": 73,
   "metadata": {},
   "outputs": [
    {
     "name": "stdout",
     "output_type": "stream",
     "text": [
      "879\n"
     ]
    }
   ],
   "source": [
    "with open(\"Kather_2016/test.json\",\"r\") as f:\n",
    "    kather16_test = json.load(f)\n",
    "    print(len(kather16_test[\"images\"]))"
   ]
  },
  {
   "cell_type": "code",
   "execution_count": 74,
   "metadata": {},
   "outputs": [
    {
     "name": "stdout",
     "output_type": "stream",
     "text": [
      "997\n"
     ]
    }
   ],
   "source": [
    "with open(\"Kather_2019/test.json\",\"r\") as f:\n",
    "    kather19_test = json.load(f)\n",
    "    print(len(kather19_test[\"images\"]))"
   ]
  },
  {
   "cell_type": "code",
   "execution_count": 75,
   "metadata": {},
   "outputs": [
    {
     "name": "stdout",
     "output_type": "stream",
     "text": [
      "997\n"
     ]
    }
   ],
   "source": [
    "with open(\"Kather_2019/val.json\",\"r\") as f:\n",
    "    kather19_val = json.load(f)\n",
    "    print(len(kather19_val[\"images\"]))"
   ]
  },
  {
   "cell_type": "code",
   "execution_count": 76,
   "metadata": {},
   "outputs": [
    {
     "name": "stdout",
     "output_type": "stream",
     "text": [
      "187\n"
     ]
    }
   ],
   "source": [
    "with open(\"Kather_2016/val.json\",\"r\") as f:\n",
    "    kather16_val = json.load(f)\n",
    "    print(len([x for x in kather16_val[\"images\"] if x[\"label\"]==\"COMPLEX\"]))"
   ]
  },
  {
   "cell_type": "code",
   "execution_count": 77,
   "metadata": {},
   "outputs": [
    {
     "name": "stdout",
     "output_type": "stream",
     "text": [
      "621\n"
     ]
    }
   ],
   "source": [
    "with open(\"Kather_2016/val.json\",\"r\") as f:\n",
    "    kather16_val = json.load(f)\n",
    "    print(len(kather16_val[\"images\"]))"
   ]
  },
  {
   "cell_type": "code",
   "execution_count": 78,
   "metadata": {},
   "outputs": [
    {
     "name": "stdout",
     "output_type": "stream",
     "text": [
      "0\n"
     ]
    }
   ],
   "source": [
    "with open(\"Kather_2016/train.json\",\"r\") as f:\n",
    "    kather16_train = json.load(f)\n",
    "    print(len([x for x in kather16_train[\"images\"] if x[\"label\"]==\"COMPLEX\"]))"
   ]
  },
  {
   "cell_type": "code",
   "execution_count": 79,
   "metadata": {},
   "outputs": [
    {
     "name": "stdout",
     "output_type": "stream",
     "text": [
      "438\n"
     ]
    }
   ],
   "source": [
    "with open(\"Kather_2016/test.json\",\"r\") as f:\n",
    "    kather16_test = json.load(f)\n",
    "    print(len([x for x in kather16_test[\"images\"] if x[\"label\"]==\"COMPLEX\"]))"
   ]
  },
  {
   "cell_type": "code",
   "execution_count": 66,
   "metadata": {},
   "outputs": [
    {
     "data": {
      "text/html": [
       "<div>\n",
       "<style scoped>\n",
       "    .dataframe tbody tr th:only-of-type {\n",
       "        vertical-align: middle;\n",
       "    }\n",
       "\n",
       "    .dataframe tbody tr th {\n",
       "        vertical-align: top;\n",
       "    }\n",
       "\n",
       "    .dataframe thead th {\n",
       "        text-align: right;\n",
       "    }\n",
       "</style>\n",
       "<table border=\"1\" class=\"dataframe\">\n",
       "  <thead>\n",
       "    <tr style=\"text-align: right;\">\n",
       "      <th></th>\n",
       "      <th>path</th>\n",
       "      <th>label</th>\n",
       "      <th>brut_label</th>\n",
       "    </tr>\n",
       "  </thead>\n",
       "  <tbody>\n",
       "    <tr>\n",
       "      <th>0</th>\n",
       "      <td>Kather_2016/Images/01_TUMOR/182AC_CRC-Prim-HE-...</td>\n",
       "      <td>TUMOR</td>\n",
       "      <td>TUMOR</td>\n",
       "    </tr>\n",
       "    <tr>\n",
       "      <th>1</th>\n",
       "      <td>Kather_2016/Images/01_TUMOR/17C99_CRC-Prim-HE-...</td>\n",
       "      <td>TUMOR</td>\n",
       "      <td>TUMOR</td>\n",
       "    </tr>\n",
       "    <tr>\n",
       "      <th>2</th>\n",
       "      <td>Kather_2016/Images/01_TUMOR/315D_CRC-Prim-HE-0...</td>\n",
       "      <td>TUMOR</td>\n",
       "      <td>TUMOR</td>\n",
       "    </tr>\n",
       "    <tr>\n",
       "      <th>3</th>\n",
       "      <td>Kather_2016/Images/01_TUMOR/1402_CRC-Prim-HE-0...</td>\n",
       "      <td>TUMOR</td>\n",
       "      <td>TUMOR</td>\n",
       "    </tr>\n",
       "    <tr>\n",
       "      <th>4</th>\n",
       "      <td>Kather_2016/Images/01_TUMOR/1374A_CRC-Prim-HE-...</td>\n",
       "      <td>TUMOR</td>\n",
       "      <td>TUMOR</td>\n",
       "    </tr>\n",
       "  </tbody>\n",
       "</table>\n",
       "</div>"
      ],
      "text/plain": [
       "                                                path  label brut_label\n",
       "0  Kather_2016/Images/01_TUMOR/182AC_CRC-Prim-HE-...  TUMOR      TUMOR\n",
       "1  Kather_2016/Images/01_TUMOR/17C99_CRC-Prim-HE-...  TUMOR      TUMOR\n",
       "2  Kather_2016/Images/01_TUMOR/315D_CRC-Prim-HE-0...  TUMOR      TUMOR\n",
       "3  Kather_2016/Images/01_TUMOR/1402_CRC-Prim-HE-0...  TUMOR      TUMOR\n",
       "4  Kather_2016/Images/01_TUMOR/1374A_CRC-Prim-HE-...  TUMOR      TUMOR"
      ]
     },
     "execution_count": 66,
     "metadata": {},
     "output_type": "execute_result"
    }
   ],
   "source": [
    "kather16_tr_df = pd.DataFrame(kather16_train[\"images\"])\n",
    "kather16_te_df = pd.DataFrame(kather16_test[\"images\"])\n",
    "kather19_tr_df = pd.DataFrame(kather19_train[\"images\"])\n",
    "kather19_te_df = pd.DataFrame(kather19_test[\"images\"])\n",
    "kather16_val_df = pd.DataFrame(kather16_val[\"images\"])\n",
    "kather19_val_df = pd.DataFrame(kather19_val[\"images\"])\n",
    "kather16_val_df.head(5)"
   ]
  },
  {
   "cell_type": "code",
   "execution_count": 67,
   "metadata": {},
   "outputs": [
    {
     "data": {
      "text/html": [
       "<div>\n",
       "<style scoped>\n",
       "    .dataframe tbody tr th:only-of-type {\n",
       "        vertical-align: middle;\n",
       "    }\n",
       "\n",
       "    .dataframe tbody tr th {\n",
       "        vertical-align: top;\n",
       "    }\n",
       "\n",
       "    .dataframe thead th {\n",
       "        text-align: right;\n",
       "    }\n",
       "</style>\n",
       "<table border=\"1\" class=\"dataframe\">\n",
       "  <thead>\n",
       "    <tr style=\"text-align: right;\">\n",
       "      <th></th>\n",
       "      <th>path</th>\n",
       "      <th>label</th>\n",
       "      <th>brut_label</th>\n",
       "      <th>split</th>\n",
       "      <th>dataset</th>\n",
       "    </tr>\n",
       "  </thead>\n",
       "  <tbody>\n",
       "    <tr>\n",
       "      <th>0</th>\n",
       "      <td>Kather_2016/Images/01_TUMOR/12933_CRC-Prim-HE-...</td>\n",
       "      <td>TUMOR</td>\n",
       "      <td>TUMOR</td>\n",
       "      <td>train</td>\n",
       "      <td>kather16</td>\n",
       "    </tr>\n",
       "    <tr>\n",
       "      <th>1</th>\n",
       "      <td>Kather_2016/Images/01_TUMOR/16D7A_CRC-Prim-HE-...</td>\n",
       "      <td>TUMOR</td>\n",
       "      <td>TUMOR</td>\n",
       "      <td>train</td>\n",
       "      <td>kather16</td>\n",
       "    </tr>\n",
       "    <tr>\n",
       "      <th>2</th>\n",
       "      <td>Kather_2016/Images/01_TUMOR/17ADD_CRC-Prim-HE-...</td>\n",
       "      <td>TUMOR</td>\n",
       "      <td>TUMOR</td>\n",
       "      <td>train</td>\n",
       "      <td>kather16</td>\n",
       "    </tr>\n",
       "    <tr>\n",
       "      <th>3</th>\n",
       "      <td>Kather_2016/Images/01_TUMOR/177BE_CRC-Prim-HE-...</td>\n",
       "      <td>TUMOR</td>\n",
       "      <td>TUMOR</td>\n",
       "      <td>train</td>\n",
       "      <td>kather16</td>\n",
       "    </tr>\n",
       "    <tr>\n",
       "      <th>4</th>\n",
       "      <td>Kather_2016/Images/01_TUMOR/108A5_CRC-Prim-HE-...</td>\n",
       "      <td>TUMOR</td>\n",
       "      <td>TUMOR</td>\n",
       "      <td>train</td>\n",
       "      <td>kather16</td>\n",
       "    </tr>\n",
       "  </tbody>\n",
       "</table>\n",
       "</div>"
      ],
      "text/plain": [
       "                                                path  label brut_label  split  \\\n",
       "0  Kather_2016/Images/01_TUMOR/12933_CRC-Prim-HE-...  TUMOR      TUMOR  train   \n",
       "1  Kather_2016/Images/01_TUMOR/16D7A_CRC-Prim-HE-...  TUMOR      TUMOR  train   \n",
       "2  Kather_2016/Images/01_TUMOR/17ADD_CRC-Prim-HE-...  TUMOR      TUMOR  train   \n",
       "3  Kather_2016/Images/01_TUMOR/177BE_CRC-Prim-HE-...  TUMOR      TUMOR  train   \n",
       "4  Kather_2016/Images/01_TUMOR/108A5_CRC-Prim-HE-...  TUMOR      TUMOR  train   \n",
       "\n",
       "    dataset  \n",
       "0  kather16  \n",
       "1  kather16  \n",
       "2  kather16  \n",
       "3  kather16  \n",
       "4  kather16  "
      ]
     },
     "execution_count": 67,
     "metadata": {},
     "output_type": "execute_result"
    }
   ],
   "source": [
    "kather16_tr_df[\"split\"] = \"train\"\n",
    "kather16_tr_df[\"dataset\"] = \"kather16\"\n",
    "kather16_te_df[\"split\"] = \"test\"\n",
    "kather16_te_df[\"dataset\"] = \"kather16\"\n",
    "kather16_val_df[\"split\"] = \"val\"\n",
    "kather16_val_df[\"dataset\"] = \"kather16\"\n",
    "\n",
    "kather19_tr_df[\"split\"] = \"train\"\n",
    "kather19_tr_df[\"dataset\"] = \"kather19\"\n",
    "kather19_te_df[\"split\"] = \"test\"\n",
    "kather19_te_df[\"dataset\"] = \"kather19\"\n",
    "kather19_val_df[\"split\"] = \"val\"\n",
    "kather19_val_df[\"dataset\"] = \"kather19\"\n",
    "\n",
    "kather = pd.concat([kather16_tr_df, kather19_tr_df, kather16_te_df, kather19_te_df, kather16_val_df, kather19_val_df])\n",
    "kather.head(5)"
   ]
  },
  {
   "cell_type": "markdown",
   "metadata": {},
   "source": [
    "We plot the different stats"
   ]
  },
  {
   "cell_type": "code",
   "execution_count": 68,
   "metadata": {
    "scrolled": false
   },
   "outputs": [
    {
     "data": {
      "text/plain": [
       "Text(0.5, 1.0, 'Number of samples per class in test set')"
      ]
     },
     "execution_count": 68,
     "metadata": {},
     "output_type": "execute_result"
    },
    {
     "data": {
      "image/png": "[encoded data removed]",
      "text/plain": [
       "<Figure size 864x1080 with 3 Axes>"
      ]
     },
     "metadata": {
      "needs_background": "light"
     },
     "output_type": "display_data"
    }
   ],
   "source": [
    "fig, ax = plt.subplots(3,1,figsize=(12,15))\n",
    "\n",
    "sns.countplot(data=kather[kather[\"split\"]==\"train\"], x=\"label\", ax=ax[0], hue=\"dataset\")\n",
    "ax[0].set_title(\"Number of samples per class in train set\")\n",
    "\n",
    "sns.countplot(data=kather[kather[\"split\"]==\"val\"], x=\"label\", ax=ax[1], hue=\"dataset\")\n",
    "ax[1].set_title(\"Number of samples per class in validation set\")\n",
    "\n",
    "sns.countplot(data=kather[kather[\"split\"]==\"test\"], x=\"label\", ax=ax[2], hue=\"dataset\")\n",
    "ax[2].set_title(\"Number of samples per class in test set\")"
   ]
  },
  {
   "cell_type": "code",
   "execution_count": 69,
   "metadata": {},
   "outputs": [
    {
     "data": {
      "text/plain": [
       "Text(0.5, 1.0, 'Number of samples per class in Kather16 testing set')"
      ]
     },
     "execution_count": 69,
     "metadata": {},
     "output_type": "execute_result"
    },
    {
     "data": {
      "image/png": "[encoded data removed]",
      "text/plain": [
       "<Figure size 864x720 with 3 Axes>"
      ]
     },
     "metadata": {
      "needs_background": "light"
     },
     "output_type": "display_data"
    }
   ],
   "source": [
    "fig, ax = plt.subplots(3,1,figsize=(12,10))\n",
    "\n",
    "sns.countplot(data=kather[kather[\"split\"]==\"train\"], x=\"label\", ax=ax[0], hue=\"dataset\")\n",
    "ax[0].set_title(\"Number of samples per class in Kather16 training set\")\n",
    "\n",
    "sns.countplot(data=kather[kather[\"split\"]==\"test\"], x=\"label\", ax=ax[1], hue=\"dataset\")\n",
    "ax[1].set_title(\"Number of samples per class in Kather16 testing set\")"
   ]
  },
  {
   "cell_type": "code",
   "execution_count": null,
   "metadata": {},
   "outputs": [],
   "source": []
  },
  {
   "cell_type": "code",
   "execution_count": null,
   "metadata": {},
   "outputs": [],
   "source": []
  }
 ],
 "metadata": {
  "kernelspec": {
   "display_name": "Python 3",
   "language": "python",
   "name": "python3"
  },
  "language_info": {
   "codemirror_mode": {
    "name": "ipython",
    "version": 3
   },
   "file_extension": ".py",
   "mimetype": "text/x-python",
   "name": "python",
   "nbconvert_exporter": "python",
   "pygments_lexer": "ipython3",
   "version": "3.8.8"
  }
 },
 "nbformat": 4,
 "nbformat_minor": 4
}
